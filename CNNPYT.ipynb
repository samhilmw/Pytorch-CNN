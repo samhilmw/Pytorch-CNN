{
 "cells": [
  {
   "cell_type": "code",
   "execution_count": 1,
   "metadata": {},
   "outputs": [],
   "source": [
    "import dataset\n",
    "from __future__ import print_function\n",
    "import torch\n",
    "import torch.nn as nn\n",
    "import torch.nn.functional as F\n",
    "import torch.optim as optim\n",
    "from torchvision import datasets, transforms\n",
    "from torch.autograd import Variable\n",
    "import numpy as np\n",
    "from torch.utils.data import Dataset, DataLoader\n",
    "import matplotlib.pyplot as plt\n",
    "from PIL import Image"
   ]
  },
  {
   "cell_type": "code",
   "execution_count": 2,
   "metadata": {},
   "outputs": [],
   "source": [
    "label_ls = ['Banana', 'Apple', 'Strawberry', 'Pineapple', 'Orange']"
   ]
  },
  {
   "cell_type": "code",
   "execution_count": 3,
   "metadata": {},
   "outputs": [],
   "source": [
    "def PIL2Tensor(path,label,label_list):\n",
    "    \n",
    "    \"\"\"\n",
    "    This function takes in two String args\n",
    "    path : Absolute path to the image from dataframe\n",
    "    label : Corresponding Label to the image\n",
    "     Returns:\n",
    "     Image and Label as Variable \n",
    "    \"\"\"\n",
    "    image = Image.open(path)\n",
    "    image = transforms.ToTensor()(image).unsqueeze(0) # unsqueeze to add artificial first dimension\n",
    "    #image = Variable(image)\n",
    "    for i , x in enumerate(label_list):\n",
    "        if label == x:\n",
    "            break\n",
    "    return image , torch.tensor([i])"
   ]
  },
  {
   "cell_type": "code",
   "execution_count": 4,
   "metadata": {},
   "outputs": [],
   "source": [
    "df = dataset.create_and_load_meta_csv_df(\"Data\",split=0.8)"
   ]
  },
  {
   "cell_type": "code",
   "execution_count": 5,
   "metadata": {},
   "outputs": [],
   "source": [
    "class ImageLoad(Dataset):\n",
    "    \"\"\" Fruit dataset \"\"\"\n",
    "    \n",
    "    \n",
    "\n",
    "    # Initialize your data, download, etc.\n",
    "    def __init__(self,df):\n",
    "        \n",
    "        label = ['Banana', 'Apple', 'Strawberry', 'Pineapple', 'Orange'] #df.iloc[:,1].unique()\n",
    "        self.len = len(df.index)\n",
    "        self.x_data , self.y_data = PIL2Tensor(df.iloc[0,0],df.iloc[0,1],label)\n",
    "        \n",
    "        for co in range(self.len):\n",
    "            \n",
    "            temp_data , temp_label = PIL2Tensor(df.iloc[co,0],df.iloc[co,1],label)\n",
    "            self.x_data = torch.cat((self.x_data,temp_data))\n",
    "            self.y_data = torch.cat((self.y_data,temp_label))\n",
    "\n",
    "    def __getitem__(self, index):\n",
    "        return self.x_data[index], self.y_data[index]\n",
    "\n",
    "    def __len__(self):\n",
    "        return self.len"
   ]
  },
  {
   "cell_type": "code",
   "execution_count": 6,
   "metadata": {},
   "outputs": [],
   "source": [
    "class Net(nn.Module):\n",
    "\n",
    "    def __init__(self):\n",
    "        super(Net, self).__init__()\n",
    "        self.conv1 = nn.Conv2d(3, 10, kernel_size=5)\n",
    "        self.conv2 = nn.Conv2d(10, 20, kernel_size=5)\n",
    "        self.mp = nn.MaxPool2d(2)\n",
    "        self.fc = nn.Linear(9680, 5)\n",
    "\n",
    "    def forward(self, x):\n",
    "        in_size = x.size(0)\n",
    "        x = F.relu(self.mp(self.conv1(x)))\n",
    "        x = F.relu(self.mp(self.conv2(x)))\n",
    "        x = x.view(in_size, -1)  # flatten the tensor\n",
    "        x = self.fc(x)\n",
    "        return F.log_softmax(x)\n"
   ]
  },
  {
   "cell_type": "code",
   "execution_count": 7,
   "metadata": {},
   "outputs": [],
   "source": [
    "dataset = ImageLoad(df[1])\n",
    "train_loader = DataLoader(dataset=dataset,\n",
    "                          batch_size=32,\n",
    "                          shuffle=True)\n",
    "dataset_train = ImageLoad(df[2])\n",
    "test_loader = DataLoader(dataset=dataset_train,\n",
    "                          batch_size=32,\n",
    "                          shuffle=True)\n"
   ]
  },
  {
   "cell_type": "code",
   "execution_count": 8,
   "metadata": {},
   "outputs": [],
   "source": [
    "model = Net()"
   ]
  },
  {
   "cell_type": "code",
   "execution_count": 9,
   "metadata": {},
   "outputs": [],
   "source": [
    "optimizer = optim.SGD(model.parameters(), lr=0.01, momentum=0.5)\n"
   ]
  },
  {
   "cell_type": "code",
   "execution_count": 10,
   "metadata": {},
   "outputs": [],
   "source": [
    "def train(epoch):\n",
    "    model.train()\n",
    "    for batch_idx, (data, target) in enumerate(train_loader):\n",
    "        data, target = Variable(data), Variable(target)\n",
    "        optimizer.zero_grad()\n",
    "        output = model(data)\n",
    "        loss = F.nll_loss(output, target)\n",
    "        loss.backward()\n",
    "        optimizer.step()\n",
    "        if batch_idx % 10 == 0:\n",
    "            print('Train Epoch: {} [{}/{} ({:.0f}%)]\\tLoss: {:.6f}'.format(\n",
    "                epoch, batch_idx * len(data), len(train_loader.dataset),\n",
    "                100. * batch_idx / len(train_loader), loss.data[0]))\n"
   ]
  },
  {
   "cell_type": "code",
   "execution_count": 11,
   "metadata": {},
   "outputs": [],
   "source": [
    "def test():\n",
    "    model.eval()\n",
    "    test_loss = 0\n",
    "    correct = 0\n",
    "    for data, target in test_loader:\n",
    "        data, target = Variable(data, volatile=True), Variable(target)\n",
    "        output = model(data)\n",
    "        # sum up batch loss\n",
    "        test_loss += F.nll_loss(output, target, size_average=False).data[0]\n",
    "        # get the index of the max log-probability\n",
    "        pred = output.data.max(1, keepdim=True)[1]\n",
    "        correct += pred.eq(target.data.view_as(pred)).cpu().sum()\n",
    "\n",
    "    test_loss /= len(test_loader.dataset)\n",
    "    print('\\nTest set: Average loss: {:.4f}, Accuracy: {}/{} ({:.0f}%)\\n'.format(\n",
    "        test_loss, correct, len(test_loader.dataset),\n",
    "        100. * correct / len(test_loader.dataset)))"
   ]
  },
  {
   "cell_type": "code",
   "execution_count": 12,
   "metadata": {},
   "outputs": [
    {
     "name": "stderr",
     "output_type": "stream",
     "text": [
      "/home/sameer/anaconda3/envs/HC#4705_stage1/lib/python3.6/site-packages/ipykernel_launcher.py:16: UserWarning: Implicit dimension choice for log_softmax has been deprecated. Change the call to include dim=X as an argument.\n",
      "  app.launch_new_instance()\n",
      "/home/sameer/anaconda3/envs/HC#4705_stage1/lib/python3.6/site-packages/ipykernel_launcher.py:13: UserWarning: invalid index of a 0-dim tensor. This will be an error in PyTorch 0.5. Use tensor.item() to convert a 0-dim tensor to a Python number\n",
      "  del sys.path[0]\n"
     ]
    },
    {
     "name": "stdout",
     "output_type": "stream",
     "text": [
      "Train Epoch: 1 [0/1954 (0%)]\tLoss: 1.598716\n",
      "Train Epoch: 1 [320/1954 (16%)]\tLoss: 1.510603\n",
      "Train Epoch: 1 [640/1954 (32%)]\tLoss: 0.925762\n",
      "Train Epoch: 1 [960/1954 (48%)]\tLoss: 0.615894\n",
      "Train Epoch: 1 [1280/1954 (65%)]\tLoss: 0.151429\n",
      "Train Epoch: 1 [1600/1954 (81%)]\tLoss: 0.694701\n",
      "Train Epoch: 1 [1920/1954 (97%)]\tLoss: 0.077839\n"
     ]
    },
    {
     "name": "stderr",
     "output_type": "stream",
     "text": [
      "/home/sameer/anaconda3/envs/HC#4705_stage1/lib/python3.6/site-packages/ipykernel_launcher.py:6: UserWarning: volatile was removed and now has no effect. Use `with torch.no_grad():` instead.\n",
      "  \n",
      "/home/sameer/anaconda3/envs/HC#4705_stage1/lib/python3.6/site-packages/torch/nn/functional.py:52: UserWarning: size_average and reduce args will be deprecated, please use reduction='sum' instead.\n",
      "  warnings.warn(warning.format(ret))\n",
      "/home/sameer/anaconda3/envs/HC#4705_stage1/lib/python3.6/site-packages/ipykernel_launcher.py:9: UserWarning: invalid index of a 0-dim tensor. This will be an error in PyTorch 0.5. Use tensor.item() to convert a 0-dim tensor to a Python number\n",
      "  if __name__ == '__main__':\n"
     ]
    },
    {
     "name": "stdout",
     "output_type": "stream",
     "text": [
      "\n",
      "Test set: Average loss: 1.0865, Accuracy: 358/489 (73%)\n",
      "\n",
      "Train Epoch: 2 [0/1954 (0%)]\tLoss: 0.907558\n",
      "Train Epoch: 2 [320/1954 (16%)]\tLoss: 0.040669\n",
      "Train Epoch: 2 [640/1954 (32%)]\tLoss: 0.019708\n",
      "Train Epoch: 2 [960/1954 (48%)]\tLoss: 0.032243\n",
      "Train Epoch: 2 [1280/1954 (65%)]\tLoss: 0.025043\n",
      "Train Epoch: 2 [1600/1954 (81%)]\tLoss: 0.014207\n",
      "Train Epoch: 2 [1920/1954 (97%)]\tLoss: 0.008167\n",
      "\n",
      "Test set: Average loss: 0.0206, Accuracy: 486/489 (99%)\n",
      "\n",
      "Train Epoch: 3 [0/1954 (0%)]\tLoss: 0.035760\n",
      "Train Epoch: 3 [320/1954 (16%)]\tLoss: 0.112360\n",
      "Train Epoch: 3 [640/1954 (32%)]\tLoss: 0.005757\n",
      "Train Epoch: 3 [960/1954 (48%)]\tLoss: 0.008149\n",
      "Train Epoch: 3 [1280/1954 (65%)]\tLoss: 0.009434\n",
      "Train Epoch: 3 [1600/1954 (81%)]\tLoss: 0.023403\n",
      "Train Epoch: 3 [1920/1954 (97%)]\tLoss: 0.005780\n",
      "\n",
      "Test set: Average loss: 0.0082, Accuracy: 489/489 (100%)\n",
      "\n",
      "Train Epoch: 4 [0/1954 (0%)]\tLoss: 0.007484\n",
      "Train Epoch: 4 [320/1954 (16%)]\tLoss: 0.002090\n",
      "Train Epoch: 4 [640/1954 (32%)]\tLoss: 0.008415\n",
      "Train Epoch: 4 [960/1954 (48%)]\tLoss: 0.004911\n",
      "Train Epoch: 4 [1280/1954 (65%)]\tLoss: 0.006314\n",
      "Train Epoch: 4 [1600/1954 (81%)]\tLoss: 0.001159\n",
      "Train Epoch: 4 [1920/1954 (97%)]\tLoss: 0.002852\n",
      "\n",
      "Test set: Average loss: 0.0038, Accuracy: 489/489 (100%)\n",
      "\n"
     ]
    }
   ],
   "source": [
    "for epoch in range(1, 5):\n",
    "    train(epoch)\n",
    "    test()"
   ]
  },
  {
   "cell_type": "code",
   "execution_count": 18,
   "metadata": {},
   "outputs": [],
   "source": [
    "def predict(df,i):\n",
    "    \"\"\"\n",
    "    Gives the prediction for ith sample from th Dataframe\n",
    "    \"\"\"\n",
    "    image = Image.open(df.iloc[i,0])\n",
    "    plt.imshow(image)\n",
    "    lab_name = df.iloc[i,1]\n",
    "    plt.title(lab_name)\n",
    "    image = transforms.ToTensor()(image).unsqueeze(0) # unsqueeze to add artificial first dimension\n",
    "    pred_lab = model(Variable(image))\n",
    "    for x , y in enumerate(label_ls):\n",
    "        if y ==lab_name:\n",
    "            break\n",
    "    print(torch.argmax(pred_lab[0,:]),x)\n",
    "    print(label_ls)\n",
    "    return None"
   ]
  },
  {
   "cell_type": "code",
   "execution_count": 23,
   "metadata": {},
   "outputs": [
    {
     "name": "stdout",
     "output_type": "stream",
     "text": [
      "tensor(4) 4\n",
      "['Banana', 'Apple', 'Strawberry', 'Pineapple', 'Orange']\n"
     ]
    },
    {
     "name": "stderr",
     "output_type": "stream",
     "text": [
      "/home/sameer/anaconda3/envs/HC#4705_stage1/lib/python3.6/site-packages/ipykernel_launcher.py:16: UserWarning: Implicit dimension choice for log_softmax has been deprecated. Change the call to include dim=X as an argument.\n",
      "  app.launch_new_instance()\n"
     ]
    },
    {
     "data": {
      "image/png": "[encoded data removed]",
      "text/plain": [
       "<Figure size 432x288 with 1 Axes>"
      ]
     },
     "metadata": {
      "needs_background": "light"
     },
     "output_type": "display_data"
    }
   ],
   "source": [
    "predict(df[0],90)"
   ]
  }
 ],
 "metadata": {
  "kernelspec": {
   "display_name": "Python 3",
   "language": "python",
   "name": "python3"
  },
  "language_info": {
   "codemirror_mode": {
    "name": "ipython",
    "version": 3
   },
   "file_extension": ".py",
   "mimetype": "text/x-python",
   "name": "python",
   "nbconvert_exporter": "python",
   "pygments_lexer": "ipython3",
   "version": "3.7.1"
  }
 },
 "nbformat": 4,
 "nbformat_minor": 2
}
